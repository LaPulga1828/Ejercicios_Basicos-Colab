{
  "nbformat": 4,
  "nbformat_minor": 0,
  "metadata": {
    "colab": {
      "provenance": [],
      "authorship_tag": "ABX9TyMQ+Ix9bye7Cn60dgnxVyy4",
      "include_colab_link": true
    },
    "kernelspec": {
      "name": "python3",
      "display_name": "Python 3"
    },
    "language_info": {
      "name": "python"
    }
  },
  "cells": [
    {
      "cell_type": "markdown",
      "metadata": {
        "id": "view-in-github",
        "colab_type": "text"
      },
      "source": [
        "<a href=\"https://colab.research.google.com/github/LaPulga1828/Ejercicios_Bsicos-Colab/blob/main/Ejercicio_Basicos.ipynb\" target=\"_parent\"><img src=\"https://colab.research.google.com/assets/colab-badge.svg\" alt=\"Open In Colab\"/></a>"
      ]
    },
    {
      "cell_type": "code",
      "execution_count": null,
      "metadata": {
        "id": "QC408mqZRqsW"
      },
      "outputs": [],
      "source": [
        "print(\"¿Usted va perder el año escolar?\")\n",
        "X=int(input(\"Si(1) o No(2)\"))\n",
        "if X==2:\n",
        "  while X==2:\n",
        "    X=0\n",
        "    print(\"¿Usted va perder el año escolar?\")\n",
        "    X=int(input(\"Si(1) o No(2)\"))\n",
        "   \n",
        "else:\n",
        "  print(\"Estaba mas que claro =(\")\n",
        "\n",
        "\n",
        "\n"
      ]
    },
    {
      "cell_type": "markdown",
      "source": [
        "# Ejercicios Basicos Python\n",
        "\n",
        "1. Suma de dos numeros\n",
        "2. Potencia de un numero\n"
      ],
      "metadata": {
        "id": "-mqopqgCgxfD"
      }
    },
    {
      "cell_type": "code",
      "source": [
        "# suma de dos numero enteros\n",
        "\n",
        "print(\"-----------------------------\")\n",
        "print(\"--------SUMA DE ENTEROS------\")\n",
        "print(\"------------------------------\")\n",
        "\n",
        "#INPUT\n",
        "\n",
        "x=int(input(\"digite el valor de x: \"))\n",
        "y=int(input(\"Digite el valor de y: \"))\n",
        "\n",
        "#processing\n",
        "\n",
        "z=x+y\n",
        "\n",
        "#output\n",
        "print(\"la suma de \",x,\"+ \",y,\" es igual a: \",z,\"\")"
      ],
      "metadata": {
        "id": "a30cyZtEhEfr"
      },
      "execution_count": null,
      "outputs": []
    },
    {
      "cell_type": "code",
      "source": [
        "# Potencia X a la Y\n",
        "\n",
        "print(\"-----------------------------\")\n",
        "print(\"-------Potencia X a la Y-----\")\n",
        "print(\"-----------------------------\")\n",
        "\n",
        "# Input\n",
        "X= int(input(\"digite el valor de X:\"))\n",
        "Y= int(input(\"digite el valor de Y:\"))\n",
        "\n",
        "\n",
        "#processing\n",
        "Z = X ** Y\n",
        "\n",
        "#output\n",
        "print( \"\",X,\" elevado a \" ,Y, \" es igual a: \" ,z,\"\")"
      ],
      "metadata": {
        "id": "VLErfRq6lG_5"
      },
      "execution_count": null,
      "outputs": []
    }
  ]
}