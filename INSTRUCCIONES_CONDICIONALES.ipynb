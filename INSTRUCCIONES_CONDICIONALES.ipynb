{
  "nbformat": 4,
  "nbformat_minor": 0,
  "metadata": {
    "colab": {
      "provenance": [],
      "authorship_tag": "ABX9TyOXH3vqcjxO1MXe17FTKEF0",
      "include_colab_link": true
    },
    "kernelspec": {
      "name": "python3",
      "display_name": "Python 3"
    },
    "language_info": {
      "name": "python"
    }
  },
  "cells": [
    {
      "cell_type": "markdown",
      "metadata": {
        "id": "view-in-github",
        "colab_type": "text"
      },
      "source": [
        "<a href=\"https://colab.research.google.com/github/LaPulga1828/Ejercicios_Bsicos-Colab/blob/main/INSTRUCCIONES_CONDICIONALES.ipynb\" target=\"_parent\"><img src=\"https://colab.research.google.com/assets/colab-badge.svg\" alt=\"Open In Colab\"/></a>"
      ]
    },
    {
      "cell_type": "markdown",
      "source": [
        "# INSTRUCIONES CONDICIONALES\n",
        "\n",
        "- IF\n",
        "-ELSE\n",
        "-IF ELIF ELSE"
      ],
      "metadata": {
        "id": "LgHJcqS_paxL"
      }
    },
    {
      "cell_type": "code",
      "source": [
        "\"\"\"Ejercicio 1:\n",
        "Programa que lea las coordenadas cartesianas (x, y) de un punto en el plano y\n",
        "calcule el cuadrante al cual pertenece el punto.\"\"\"\n",
        "\n",
        "print(\"---------------------------------------\")\n",
        "print(\"-------UBICACION DE CORDENANDAS -------\")\n",
        "print(\"---------------------------------------\")\n",
        "\n",
        "# input\n",
        "X= input(\"Digite el valor de X:\")\n",
        "X= int(X)\n",
        "Y= input(\"Digite el valor de Y:\")\n",
        "Y= int(Y)\n",
        "\n",
        "\n",
        "# processing\n",
        "if X ==0:\n",
        "    if Y ==0:\n",
        "        print(\"La cordenada es el punto de origen\")\n",
        "    else:\n",
        "        print(\"La cordenada esta sobre el eje Y\")\n",
        "\n",
        "\n",
        "else:\n",
        "    if Y==0:\n",
        "        print(\"La cordenada esta sobre el eje X\")\n",
        "\n",
        "    else:\n",
        "        if X>0:\n",
        "            if Y>0:\n",
        "                print(\"La cordenada esta en el primer cuadrante\")\n",
        "\n",
        "            else:\n",
        "                print(\"La cordenada esta en el cuarto cuadrante\")\n",
        "        else:\n",
        "            if Y<0:\n",
        "                print(\"La cordenada es del tercer cuadrante\")  \n",
        "\n",
        "            else:\n",
        "                print(\"La cordenada es del segundo cuadrante\")              "
      ],
      "metadata": {
        "id": "plCMtvCepxYE"
      },
      "execution_count": null,
      "outputs": []
    },
    {
      "cell_type": "code",
      "source": [
        "\"\"\"Ejercicio 3:\n",
        "Programa que le indique el precio de venta\n",
        "de un articulo dado.\"\"\"\n",
        "\n",
        "print(\"-------------------------------------------------------\")\n",
        "print(\"---------PRECIO VENTA Y GANACIA DE UN PRODUCTO --------\")\n",
        "print(\"-------------------------------------------------------\")\n",
        "\n",
        "# input\n",
        "C=float(input(\"Digite el precio costo del producto: \"))\n",
        "\n",
        "\n",
        "# processing\n",
        "\n",
        "if C<3000:\n",
        "    G=0.15*C\n",
        "\n",
        "else:\n",
        "    if C<=6000:\n",
        "        G=500\n",
        "\n",
        "    else:\n",
        "        G=0,25*C\n",
        "\n",
        "\n",
        "P=C+G\n",
        "\n",
        "# output\n",
        "\n",
        "print(\"\\nResultado\\n\")\n",
        "\n",
        "print( \" El precio venta es : \",P,\"\")\n",
        "print( \" El precio de costo es : \",C,\"\") )\n",
        "print( \" La ganacia es : \" ,G,\"\" )"
      ],
      "metadata": {
        "id": "7COMZGsjqKhg"
      },
      "execution_count": null,
      "outputs": []
    },
    {
      "cell_type": "code",
      "source": [
        "\"\"\"Ejercicio 9:\n",
        "Programa que por cada número ingresado del 1 al 7 \n",
        "diga que dia de la semana es en ese orden\"\"\"\n",
        "\n",
        "\n",
        "print(\"------------------------------------\")\n",
        "print(\"---------DIAS DE LA SEMANA----------\")\n",
        "print(\"------------------------------------\")\n",
        "\n",
        "\n",
        "# input\n",
        "OP=int(input(\"Digite un número del 1 al 7: \"))\n",
        "\n",
        "\n",
        "#processing\n",
        "if OP==1:\n",
        "  print(\"Es Lunes\")\n",
        "elif OP==2:\n",
        "  print(\"Es Martes\")\n",
        "elif OP==3:\n",
        "  print(\"Es Miércoles\")\n",
        "elif OP==4:\n",
        "  print(\"Es Jueves\")\n",
        "elif OP==5:\n",
        "  print(\"Es Viernes\")\n",
        "elif OP==6:\n",
        "  print(\"Es Sábado\")\n",
        "elif OP==7:\n",
        "  print(\"Es Domingo\")\n",
        "else:\n",
        "  print(\"Día no válido\")"
      ],
      "metadata": {
        "id": "X084eAaxqnJK"
      },
      "execution_count": null,
      "outputs": []
    }
  ]
}